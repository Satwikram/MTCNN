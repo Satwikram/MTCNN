{
 "cells": [
  {
   "cell_type": "code",
   "execution_count": 33,
   "metadata": {},
   "outputs": [
    {
     "name": "stdout",
     "output_type": "stream",
     "text": [
      "Name: mtcnn\n",
      "Version: 0.1.0\n",
      "Summary: Multi-task Cascaded Convolutional Neural Networks for Face Detection, based on TensorFlow\n",
      "Home-page: http://github.com/ipazc/mtcnn\n",
      "Author: Iván de Paz Centeno\n",
      "Author-email: ipazc@unileon.es\n",
      "License: MIT\n",
      "Location: c:\\users\\sinchana\\anaconda3\\envs\\tf\\lib\\site-packages\n",
      "Requires: keras, opencv-python\n",
      "Required-by: \n"
     ]
    }
   ],
   "source": [
    "!pip show mtcnn"
   ]
  },
  {
   "cell_type": "code",
   "execution_count": 34,
   "metadata": {},
   "outputs": [
    {
     "name": "stdout",
     "output_type": "stream",
     "text": [
      "0.1.0\n"
     ]
    }
   ],
   "source": [
    "# confirm mtcnn was installed correctly\n",
    "import mtcnn\n",
    "# print version\n",
    "print(mtcnn.__version__)"
   ]
  },
  {
   "cell_type": "markdown",
   "metadata": {},
   "source": [
    "### Importing Dependencies"
   ]
  },
  {
   "cell_type": "code",
   "execution_count": 35,
   "metadata": {},
   "outputs": [],
   "source": [
    "from mtcnn.mtcnn import MTCNN\n",
    "from matplotlib.patches import Rectangle\n",
    "from matplotlib.patches import Circle\n",
    "import matplotlib.pyplot as plt\n",
    "import cv2"
   ]
  },
  {
   "cell_type": "code",
   "execution_count": 56,
   "metadata": {},
   "outputs": [],
   "source": [
    "# draw each face separately\n",
    "folder = 'datasets/'\n",
    "def draw_faces(data, result_list, j):\n",
    "    \n",
    "    for i in range(len(result_list)):\n",
    "        # get coordinates\n",
    "        x1, y1, width, height = result_list[i]['box']\n",
    "        x2, y2 = x1 + width, y1 + height\n",
    "        print(A)\n",
    "\n",
    "        # plot face\n",
    "        cv2.imshow(\"Object Detected\", data[y1:y2, x1:x2])\n",
    "        filename = folder+'Satwik'+str(j)+'.jpg'\n",
    "        cv2.imwrite(filename, data[y1:y2, x1:x2])"
   ]
  },
  {
   "cell_type": "code",
   "execution_count": 57,
   "metadata": {},
   "outputs": [],
   "source": [
    "detector = MTCNN()\n",
    "# detect faces in the image"
   ]
  },
  {
   "cell_type": "code",
   "execution_count": 58,
   "metadata": {},
   "outputs": [],
   "source": [
    "# import the opencv library \n",
    "import cv2 \n",
    "\n",
    "# define a video capture object \n",
    "camera = cv2.VideoCapture(0) \n",
    "j = 0\n",
    "  \n",
    "while(True): \n",
    "      \n",
    "    # Capture the video frame \n",
    "    # by frame \n",
    "    return_value, image = camera.read() \n",
    "  \n",
    "    # Display the resulting frame \n",
    "    cv2.imshow(\"Image\", image)\n",
    "    faces = detector.detect_faces(image)\n",
    "    draw_faces(image, faces, j)\n",
    "    j = j + 1\n",
    "    \n",
    "    if cv2.waitKey(1) & 0xFF == ord('q'): \n",
    "        break\n",
    "        \n",
    "    if j == 50:\n",
    "        break\n",
    "\n",
    "# After the loop release the cap object \n",
    "camera.release() \n",
    "# Destroy all the windows \n",
    "cv2.destroyAllWindows() "
   ]
  },
  {
   "cell_type": "code",
   "execution_count": null,
   "metadata": {},
   "outputs": [],
   "source": []
  },
  {
   "cell_type": "code",
   "execution_count": null,
   "metadata": {},
   "outputs": [],
   "source": []
  }
 ],
 "metadata": {
  "kernelspec": {
   "display_name": "Python 3",
   "language": "python",
   "name": "python3"
  },
  "language_info": {
   "codemirror_mode": {
    "name": "ipython",
    "version": 3
   },
   "file_extension": ".py",
   "mimetype": "text/x-python",
   "name": "python",
   "nbconvert_exporter": "python",
   "pygments_lexer": "ipython3",
   "version": "3.7.9"
  }
 },
 "nbformat": 4,
 "nbformat_minor": 4
}
